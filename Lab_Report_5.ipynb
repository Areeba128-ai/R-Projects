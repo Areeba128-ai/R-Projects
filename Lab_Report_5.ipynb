{
 "cells": [
  {
   "cell_type": "code",
   "execution_count": 2,
   "id": "84044efd-01c1-43e7-ac49-f9dddb3e29e1",
   "metadata": {},
   "outputs": [
    {
     "name": "stdout",
     "output_type": "stream",
     "text": [
      "[1] \"Hello, R in JupiterLab You are Welcomed Here\"\n"
     ]
    }
   ],
   "source": [
    "print(\"Hello, R in JupiterLab You are Welcomed Here\")"
   ]
  },
  {
   "cell_type": "code",
   "execution_count": 3,
   "id": "339b84d6-d12d-4a7f-81d2-aa893aeef6aa",
   "metadata": {},
   "outputs": [
    {
     "data": {
      "image/png": "[encoded data removed]",
      "text/plain": [
       "plot without title"
      ]
     },
     "metadata": {
      "image/png": {
       "height": 420,
       "width": 420
      }
     },
     "output_type": "display_data"
    }
   ],
   "source": [
    "# Load the ggplot2 package — this is required for plotting\n",
    "library(ggplot2)\n",
    "\n",
    "# Load the built-in 'mtcars' dataset (contains variables like hp and mpg)\n",
    "data(mtcars)\n",
    "\n",
    "# Create a scatter plot using ggplot2\n",
    "ggplot(                       # 🔹 Main plotting function — REQUIRED\n",
    "  data = mtcars,              # 🔸 'data' parameter — REQUIRED: specifies the dataset to use\n",
    "  aes(x = hp, y = mpg)        # 🔸 'aes()' function — REQUIRED: defines aesthetic mappings\n",
    "  # x = hp → horsepower on X-axis\n",
    "  # y = mpg → miles per gallon on Y-axis\n",
    ") +\n",
    "  geom_point(                 # 🔹 Adds scatter plot points — REQUIRED for visualizing dots\n",
    "    color = \"blue\"            # 🔸 'color' parameter — OPTIONAL: sets point color to blue\n",
    "  ) +\n",
    "  labs(                       # 🔹 Adds labels and titles — OPTIONAL but recommended for readability\n",
    "    title = \"Horsepower vs MPG\",  # 🔸 'title' — OPTIONAL: sets the plot title\n",
    "    x = \"Horsepower\",             # 🔸 'x' — OPTIONAL: label for the x-axis\n",
    "    y = \"Miles Per Gallon\"        # 🔸 'y' — OPTIONAL: label for the y-axis\n",
    "  )\n"
   ]
  },
  {
   "cell_type": "code",
   "execution_count": null,
   "id": "5c33836b-7324-4ea9-8679-c24a7d687e35",
   "metadata": {},
   "outputs": [],
   "source": []
  }
 ],
 "metadata": {
  "kernelspec": {
   "display_name": "R",
   "language": "R",
   "name": "ir"
  },
  "language_info": {
   "codemirror_mode": "r",
   "file_extension": ".r",
   "mimetype": "text/x-r-source",
   "name": "R",
   "pygments_lexer": "r",
   "version": "4.4.3"
  }
 },
 "nbformat": 4,
 "nbformat_minor": 5
}
