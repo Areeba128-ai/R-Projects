{
 "cells": [
  {
   "cell_type": "code",
   "execution_count": 28,
   "id": "d6d42e57-5bcf-40c7-8f03-78325ab47dea",
   "metadata": {},
   "outputs": [
    {
     "name": "stderr",
     "output_type": "stream",
     "text": [
      "Warning message:\n",
      "\"package 'tidyverse' is in use and will not be installed\"\n"
     ]
    }
   ],
   "source": [
    "install.packages(\"tidyverse\", repos = \"http://cran.rstudio.com/\")"
   ]
  },
  {
   "cell_type": "code",
   "execution_count": 13,
   "id": "98d3c802-38b3-4d21-8deb-c0512b0f8908",
   "metadata": {},
   "outputs": [],
   "source": [
    "library(tidyverse)"
   ]
  },
  {
   "cell_type": "code",
   "execution_count": 14,
   "id": "99d5fe89-cde3-46be-a791-d1da19af4082",
   "metadata": {},
   "outputs": [],
   "source": [
    "df <- read.csv(\"online_retail.csv\", stringsAsFactors = FALSE)"
   ]
  },
  {
   "cell_type": "code",
   "execution_count": 29,
   "id": "06ea3995-e789-4821-9662-89c2b6be6d0b",
   "metadata": {},
   "outputs": [],
   "source": [
    "df_clean <- df %>% filter(!is.na(Customer.ID))\n",
    "#%>%: Pipe operator from magrittr (part of tidyverse) for chaining commands.\n",
    "#filter()\tdplyr (tidyverse)"
   ]
  },
  {
   "cell_type": "code",
   "execution_count": 30,
   "id": "f66dc467-f7e3-480d-b6b7-e2b142df5fe0",
   "metadata": {},
   "outputs": [],
   "source": [
    "df_clean$UnitPrice[is.na(df_clean$UnitPrice)] <- median(df_clean$UnitPrice, na.rm = TRUE) #“ na.rm Ignore / remove missing values (NA) while calculating.”  \n",
    "#Replace Missing Values in UnitPrice and Quantity with Their Median"
   ]
  },
  {
   "cell_type": "code",
   "execution_count": 20,
   "id": "ae60e05c-9ff9-4f6d-8dcd-36c7b497bfa1",
   "metadata": {},
   "outputs": [],
   "source": [
    "df_clean$Quantity[is.na(df_clean$Quantity)] <- median(df_clean$Quantity, na.rm = TRUE)"
   ]
  },
  {
   "cell_type": "code",
   "execution_count": 31,
   "id": "9a5ce797-0e64-4f38-8af4-ed8b89866570",
   "metadata": {},
   "outputs": [],
   "source": [
    "write.csv(df_clean, \"processed_online_retail.csv\", row.names = FALSE)\n",
    "#write.csv(): Saves a data frame to a CSV file.\n",
    "\n",
    "#row.names = FALSE: Prevents row numbers from being written to the file.\n",
    "\n",
    "#Function source: Built-in R function."
   ]
  },
  {
   "cell_type": "code",
   "execution_count": 32,
   "id": "68cc6581-bfa2-4e84-94b9-c641e7ee4891",
   "metadata": {},
   "outputs": [
    {
     "name": "stdout",
     "output_type": "stream",
     "text": [
      "'data.frame':\t406830 obs. of  8 variables:\n",
      " $ Invoice    : chr  \"536365\" \"536365\" \"536365\" \"536365\" ...\n",
      " $ StockCode  : chr  \"85123A\" \"71053\" \"84406B\" \"84029G\" ...\n",
      " $ Description: chr  \"WHITE HANGING HEART T-LIGHT HOLDER\" \"WHITE METAL LANTERN\" \"CREAM CUPID HEARTS COAT HANGER\" \"KNITTED UNION FLAG HOT WATER BOTTLE\" ...\n",
      " $ Quantity   : int  6 6 8 6 6 2 6 6 6 6 ...\n",
      " $ InvoiceDate: chr  \"01/12/2010 8:26\" \"01/12/2010 8:26\" \"01/12/2010 8:26\" \"01/12/2010 8:26\" ...\n",
      " $ Price      : num  2.55 3.39 2.75 3.39 3.39 7.65 4.25 1.85 1.85 4.25 ...\n",
      " $ Customer.ID: int  17850 17850 17850 17850 17850 17850 17850 17850 17850 13047 ...\n",
      " $ Country    : chr  \"United Kingdom\" \"United Kingdom\" \"United Kingdom\" \"United Kingdom\" ...\n"
     ]
    }
   ],
   "source": [
    "str(df_clean)"
   ]
  },
  {
   "cell_type": "markdown",
   "id": "d04b9b90-4d12-49df-a016-582ff34bfe42",
   "metadata": {},
   "source": [
    "#str(): Displays the internal structure of an R object (columns, types, example values)."
   ]
  },
  {
   "cell_type": "code",
   "execution_count": null,
   "id": "d41fd573-cc46-4ba0-8191-2361e2f66284",
   "metadata": {},
   "outputs": [],
   "source": []
  }
 ],
 "metadata": {
  "kernelspec": {
   "display_name": "R",
   "language": "R",
   "name": "ir"
  },
  "language_info": {
   "codemirror_mode": "r",
   "file_extension": ".r",
   "mimetype": "text/x-r-source",
   "name": "R",
   "pygments_lexer": "r",
   "version": "4.4.3"
  }
 },
 "nbformat": 4,
 "nbformat_minor": 5
}
